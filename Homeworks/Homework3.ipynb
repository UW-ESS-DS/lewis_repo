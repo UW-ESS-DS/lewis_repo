{
 "cells": [
  {
   "cell_type": "markdown",
   "id": "authorized-juvenile",
   "metadata": {},
   "source": [
    "Demonstrate your ability to navigate python coding such as importing and using basic python modules, assigning variables, \n",
    "\n",
    "performing basic operations such as addition, declaring lists, loops, basic function definitions. \n",
    "\n",
    "Simply attach a notebook PDF or screenshot of what you had to code."
   ]
  },
  {
   "cell_type": "code",
   "execution_count": 2,
   "id": "brown-thong",
   "metadata": {},
   "outputs": [
    {
     "name": "stdout",
     "output_type": "stream",
     "text": [
      "105\n",
      "[1, 2, 3]\n",
      "[1 2 3]\n",
      "[ 1.  2.  3.  4.  5.  6.  7.  8.  9. 10.]\n",
      "[0.17228233 0.49090765 0.07370922 0.11995794 0.7376785  0.08734812\n",
      " 0.7085016  0.05706066 0.82834067 0.87689896]\n"
     ]
    }
   ],
   "source": [
    "# import numpy\n",
    "import numpy as np\n",
    "from numpy import random\n",
    "# assigning variable, declaring lists, adding\n",
    "a = 100\n",
    "a = a + 5\n",
    "b = [1, 2, 3]\n",
    "c = np.array(b)\n",
    "print(a)\n",
    "print(b)\n",
    "print(c)\n",
    "# using python modules\n",
    "d = np.linspace(1, 10, 10)\n",
    "e = random.rand(10)\n",
    "print(d)\n",
    "print(e)\n",
    "# \n"
   ]
  },
  {
   "cell_type": "code",
   "execution_count": 3,
   "id": "quantitative-cream",
   "metadata": {},
   "outputs": [
    {
     "name": "stdout",
     "output_type": "stream",
     "text": [
      "geology\n",
      "machine learing\n",
      "data science\n"
     ]
    }
   ],
   "source": [
    "# Loop\n",
    "ess_490 = [\"geology\", \"machine learing\", \"data science\"]\n",
    "for x in ess_490:\n",
    "  print(x) "
   ]
  },
  {
   "cell_type": "code",
   "execution_count": 6,
   "id": "greenhouse-devil",
   "metadata": {},
   "outputs": [
    {
     "name": "stdout",
     "output_type": "stream",
     "text": [
      "I love studing geology!\n",
      "I love studing machine learing!\n",
      "I love studing data science!\n"
     ]
    }
   ],
   "source": [
    "# basic function definitions\n",
    "def study(subject):\n",
    "    print(\"I love studing \" + subject + \"!\")\n",
    "\n",
    "\n",
    "for x in ess_490:\n",
    "    study(x)"
   ]
  },
  {
   "cell_type": "code",
   "execution_count": null,
   "id": "occasional-kruger",
   "metadata": {},
   "outputs": [],
   "source": []
  }
 ],
 "metadata": {
  "kernelspec": {
   "display_name": "Python 3",
   "language": "python",
   "name": "python3"
  },
  "language_info": {
   "codemirror_mode": {
    "name": "ipython",
    "version": 3
   },
   "file_extension": ".py",
   "mimetype": "text/x-python",
   "name": "python",
   "nbconvert_exporter": "python",
   "pygments_lexer": "ipython3",
   "version": "3.8.8"
  }
 },
 "nbformat": 4,
 "nbformat_minor": 5
}
