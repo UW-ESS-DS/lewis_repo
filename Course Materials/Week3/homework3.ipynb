{
 "cells": [
  {
   "cell_type": "markdown",
   "id": "465b5d81",
   "metadata": {},
   "source": [
    "# Homework 3"
   ]
  },
  {
   "cell_type": "markdown",
   "id": "7a49d470",
   "metadata": {},
   "source": [
    "I have a catalog of repeating earthquakes, and I want to download seismic waveforms corresponding to these repeating earthquakes. However, when I look at the list of stations available in the seismic network, there are more than 6000. I do not want to download data from 6000 stations, so I want to filter only the seismic stations that are relevant for what I want to do with my waveforms."
   ]
  },
  {
   "cell_type": "code",
   "execution_count": null,
   "id": "e9aad215",
   "metadata": {},
   "outputs": [],
   "source": [
    "# Address of the website to download data\n",
    "url = 'http://ncedc.org/ftp/pub/doc/NC.info/NC.channel.summary.day'"
   ]
  },
  {
   "cell_type": "code",
   "execution_count": null,
   "id": "204937b0",
   "metadata": {},
   "outputs": [],
   "source": [
    "# Useful Python modules\n",
    "import numpy as np\n",
    "import pandas as pd\n",
    "import io\n",
    "import pickle\n",
    "import requests\n",
    "from datetime import datetime, timedelta\n",
    "from math import cos, sin, pi, sqrt"
   ]
  },
  {
   "cell_type": "code",
   "execution_count": null,
   "id": "266ebe38",
   "metadata": {},
   "outputs": [],
   "source": [
    "# Import the data from the website into a Python dataframe\n",
    "s = requests.get(url).content\n",
    "data = pd.read_csv(io.StringIO(s.decode('utf-8')), header=None, skiprows=2, sep='\\s+', usecols=list(range(0, 13)))\n",
    "data.columns = ['station', 'network', 'channel', 'location', 'rate', 'start_time', 'end_time', 'latitude', 'longitude', 'elevation', 'depth', 'dip', 'azimuth']"
   ]
  },
  {
   "cell_type": "code",
   "execution_count": null,
   "id": "d2683bec",
   "metadata": {},
   "outputs": [],
   "source": [
    "# Transform columns start_time and end_time into datetime format\n",
    "startdate = pd.to_datetime(data['start_time'], format='%Y/%m/%d,%H:%M:%S')\n",
    "data['start_time'] = startdate\n",
    "# Avoid 'OutOfBoundsDatetime' error with year 3000\n",
    "enddate = data['end_time'].str.replace('3000', '2025')\n",
    "enddate = pd.to_datetime(enddate, format='%Y/%m/%d,%H:%M:%S')\n",
    "data['end_time'] = enddate"
   ]
  },
  {
   "cell_type": "markdown",
   "id": "b3f8211e",
   "metadata": {},
   "source": [
    "After discussing with my adviser, we decided than only the following channels are relevant for the work we want to do:"
   ]
  },
  {
   "cell_type": "code",
   "execution_count": null,
   "id": "82039fd7",
   "metadata": {},
   "outputs": [],
   "source": [
    "channels = ['BHE', 'BHN', 'BHZ', 'BH1', 'BH2', \\\n",
    "            'EHE', 'EHN', 'EHZ', 'EH1', 'EH2', \\\n",
    "            'HHE', 'HHN', 'HHZ', 'HH1', 'HH2', \\\n",
    "            'SHE', 'SHN', 'SHZ', 'SH1', 'SH2']"
   ]
  },
  {
   "cell_type": "markdown",
   "id": "ac0207c6",
   "metadata": {},
   "source": [
    "## First question\n",
    "\n",
    "Filter the dataset to keep only the rows with the channels as defined above."
   ]
  },
  {
   "cell_type": "code",
   "execution_count": null,
   "id": "3801a1b2",
   "metadata": {},
   "outputs": [],
   "source": []
  },
  {
   "cell_type": "markdown",
   "id": "bd97a56b",
   "metadata": {},
   "source": [
    "My earthquake catalog starts on 2007/07/01 and ends on 2009/07/01. I am only interested in stations that started recording before 2007/07/01 and ended recording after 2009/07/01."
   ]
  },
  {
   "cell_type": "markdown",
   "id": "2f4eca6e",
   "metadata": {},
   "source": [
    "## Second question\n",
    "\n",
    "Filter the dataset to keep only stations that started recording before 2007/07/01 and ended recording after 2009/07/01."
   ]
  },
  {
   "cell_type": "code",
   "execution_count": null,
   "id": "d4ffb9f2",
   "metadata": {},
   "outputs": [],
   "source": []
  },
  {
   "cell_type": "markdown",
   "id": "978997ec",
   "metadata": {},
   "source": [
    "I only want to keep the stations that are located less than 100 km from my repeating earthquakes. For stations farther away, the signal-to-noise ratio would be too low.\n",
    "\n",
    "The earthquakes are located at latitude = 40.09 and longitude = -122.87. Here is a function to compute the distance from the station to the earthquakes, and to add a column distance to the dataset"
   ]
  },
  {
   "cell_type": "code",
   "execution_count": null,
   "id": "f1dfd7d5",
   "metadata": {},
   "outputs": [],
   "source": [
    "a = 6378.136\n",
    "e = 0.006694470\n",
    "lat0 = 40.09000\n",
    "lon0 = -122.87000\n",
    "dx = (pi / 180.0) * a * cos(lat0 * pi / 180.0) / sqrt(1.0 - e * e * sin(lat0 * pi / 180.0) * sin(lat0 * pi / 180.0))\n",
    "dy = (3.6 * pi / 648.0) * a * (1.0 - e * e) / ((1.0 - e * e * sin(lat0 * pi / 180.0) * sin(lat0 * pi / 180.0)) ** 1.5)\n",
    "x = dx * (data['longitude'] - lon0)\n",
    "y = dy * (data['latitude'] - lat0)\n",
    "data['distance'] = np.sqrt(np.power(x, 2.0) + np.power(y, 2.0))"
   ]
  },
  {
   "cell_type": "markdown",
   "id": "ec268269",
   "metadata": {},
   "source": [
    "## Third question\n",
    "\n",
    "Filter the dataset to keep only stations that are less than 100 km from the earthquakes."
   ]
  },
  {
   "cell_type": "code",
   "execution_count": null,
   "id": "02c773f6",
   "metadata": {},
   "outputs": [],
   "source": []
  },
  {
   "cell_type": "markdown",
   "id": "6c7999b8",
   "metadata": {},
   "source": [
    "Finally, I want to group the result such that the final result looks like:\n",
    "\n",
    "|station|network|location|latitude|longitude |elevation|depth|distance |channel    |start_time         |end_time           |\n",
    "|-------|-------|--------|--------|----------|---------|-----|---------|-----------|-------------------|-------------------|\n",
    "|KBS \t|NC \t|-- \t |39.91719|-123.59561|1120.0   |0.0  |64.720762|SHZ        |2002-10-17 00:00:00|2011-10-27 21:25:00|\n",
    "|KCPB \t|NC \t|-- \t |39.68631|-123.58242|1261.0   |0.0  |75.502041|HHZ,HHN,HHE|2006-10-18 00:08:00|2010-11-01 22:00:00|"
   ]
  },
  {
   "cell_type": "markdown",
   "id": "7eb71da4",
   "metadata": {},
   "source": [
    "I want all different channels to be grouped together, instead of having one row per channel. I also want to get the start_time end end_time for each station, instead of having it for each channel."
   ]
  },
  {
   "cell_type": "markdown",
   "id": "899ec07f",
   "metadata": {},
   "source": [
    "You can use the following function to group the channels together:"
   ]
  },
  {
   "cell_type": "code",
   "execution_count": null,
   "id": "d35712c2",
   "metadata": {},
   "outputs": [],
   "source": [
    "def f(x):\n",
    "    \"\"\"\n",
    "    Concatenate channels\n",
    "    \"\"\"\n",
    "    result = '%s' % ','.join(x)\n",
    "    result = list(set(result.split(',')))\n",
    "    result = '%s' % ','.join(result)\n",
    "    return result"
   ]
  },
  {
   "cell_type": "markdown",
   "id": "a3166a38",
   "metadata": {},
   "source": [
    "## Fourth question\n",
    "\n",
    "Use the pandas function agg to group the channels of a given station together, and compute the least recent start_time and the most recent end_time for each station."
   ]
  },
  {
   "cell_type": "code",
   "execution_count": null,
   "id": "489c589c",
   "metadata": {},
   "outputs": [],
   "source": []
  },
  {
   "cell_type": "markdown",
   "id": "fa0cb8fb",
   "metadata": {},
   "source": [
    "## Fifth question\n",
    "\n",
    "How many stations are left in the dataset?"
   ]
  },
  {
   "cell_type": "code",
   "execution_count": null,
   "id": "fb5ee253",
   "metadata": {},
   "outputs": [],
   "source": []
  }
 ],
 "metadata": {
  "kernelspec": {
   "display_name": "Python 3",
   "language": "python",
   "name": "python3"
  },
  "language_info": {
   "codemirror_mode": {
    "name": "ipython",
    "version": 3
   },
   "file_extension": ".py",
   "mimetype": "text/x-python",
   "name": "python",
   "nbconvert_exporter": "python",
   "pygments_lexer": "ipython3",
   "version": "3.9.2"
  }
 },
 "nbformat": 4,
 "nbformat_minor": 5
}
