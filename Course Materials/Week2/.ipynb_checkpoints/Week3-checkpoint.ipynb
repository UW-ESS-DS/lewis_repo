{
 "cells": [
  {
   "cell_type": "code",
   "execution_count": null,
   "id": "interior-knock",
   "metadata": {},
   "outputs": [],
   "source": [
    "# imort module\n",
    "import numpy as np"
   ]
  },
  {
   "cell_type": "code",
   "execution_count": null,
   "id": "english-cloud",
   "metadata": {},
   "outputs": [],
   "source": [
    "%matplotlib inline\n",
    "import matplotlib.pyplot as plt\n",
    "import matplotlib.pylab as pylab\n",
    "params = {\n",
    "    'legend.fontsize':14, \\\n",
    "    'xtick.labelsize':14, \\\n",
    "    'ytick.labelsize':14, \\\n",
    "    'font.size':14\n",
    "}\n",
    "pylab.rcParams.update(params)"
   ]
  },
  {
   "cell_type": "code",
   "execution_count": null,
   "id": "furnished-minimum",
   "metadata": {},
   "outputs": [],
   "source": [
    "N = 100\n",
    "x_int = np.arange(N)\n",
    "print(x_int)"
   ]
  },
  {
   "cell_type": "code",
   "execution_count": null,
   "id": "prescription-amplifier",
   "metadata": {},
   "outputs": [],
   "source": [
    "N = 100\n",
    "\n",
    "# linearly spaced vectors\n",
    "x_lat = np.linspace(39, 50, N)# this will make a vector of floats from min to max values evenly spaced\n",
    "x_long = np.linspace(-128, -125, N)# same for longitude\n",
    "print(x_lat)\n",
    "print(x_long)\n",
    "\n",
    "\n",
    "# time vectors\n",
    "x_t = np.linspace(0, 100, N)\n",
    "dt = x_t[1]\n",
    "print(dt)\n",
    "\n",
    "# logspace vectors\n",
    "# 10^(-1) -> 10^(1) => 0.1 -1\n",
    "x_tl = np.logspace(-1, 1, N)\n",
    "print(x_tl)"
   ]
  },
  {
   "cell_type": "code",
   "execution_count": null,
   "id": "liked-indicator",
   "metadata": {},
   "outputs": [],
   "source": [
    "fig, (ax1, ax2) = plt.subplots(1, 2, figsize = (15, 10)) # 1 row, 2 co\n",
    "ax1.plot(x_t, '.')\n",
    "ax2.plot(x_tl, 'r.');ax2.set_yscale('log')\n",
    "ax1.set_xlabel('Index of vector')\n",
    "ax2.set_xlabel('Index of vector')\n",
    "ax1.set_ylabel('Time (s)')\n",
    "ax2.set_ylabel('Time (s)')\n",
    "ax1.set_title('My first plot!')\n",
    "ax2.set_title('My second plot!')\n",
    "ax1.grid(True)\n",
    "ax2.grid(True)"
   ]
  },
  {
   "cell_type": "code",
   "execution_count": null,
   "id": "allied-cargo",
   "metadata": {},
   "outputs": [],
   "source": [
    "# fenerate random fields\n",
    "from numpy import random\n",
    "\n",
    "N = 100 # Number of samples \n",
    "\n",
    "# Uniform distribution\n",
    "x1 = 2 * random .rand(N) - 1 #Uniform distribution centered at 0, varing between -1 and 2.\n",
    "# Gaussian distribution\n",
    "x2 = random.rand(N)\n",
    "\n",
    "# Power law\n",
    "a = 2\n",
    "x3 = random.power(a, N)\n",
    "\n",
    "#poisson\n",
    "b = 4\n",
    "x4 = random.poisson(b, N)"
   ]
  },
  {
   "cell_type": "code",
   "execution_count": null,
   "id": "acoustic-injury",
   "metadata": {},
   "outputs": [],
   "source": [
    "# Now compare this distribution to thr Gaussian distribution\n",
    "fig1,(ax1, ax2, ax3, ax4) = plt.subplots(1, 4, figsize = (15, 5)) # 1 row, 2 co\n",
    "ax1.plot(x1)\n",
    "ax2.plot(x2)\n",
    "ax3.plot(x3)\n",
    "ax4.plot(x4)\n",
    "\n",
    "# Plot the 2 histograms\n",
    "fig2, (ax11, ax12, ax13, ax14) = plt.subplots(1, 4, figsize = (15, 5)) # 1 row, 2 co\n",
    "ax11.plot(x1)\n",
    "ax12.plot(x2)\n",
    "ax13.plot(x3)\n",
    "ax14.plot(x4)"
   ]
  }
 ],
 "metadata": {
  "kernelspec": {
   "display_name": "Python 3",
   "language": "python",
   "name": "python3"
  },
  "language_info": {
   "codemirror_mode": {
    "name": "ipython",
    "version": 3
   },
   "file_extension": ".py",
   "mimetype": "text/x-python",
   "name": "python",
   "nbconvert_exporter": "python",
   "pygments_lexer": "ipython3",
   "version": "3.8.8"
  }
 },
 "nbformat": 4,
 "nbformat_minor": 5
}
